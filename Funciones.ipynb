{
 "cells": [
  {
   "cell_type": "code",
   "execution_count": 1,
   "metadata": {},
   "outputs": [],
   "source": [
    "import pandas as pd"
   ]
  },
  {
   "cell_type": "code",
   "execution_count": 2,
   "metadata": {},
   "outputs": [],
   "source": [
    "df=pd.read_csv(\"datasets/movietrasnf2.csv\")"
   ]
  },
  {
   "cell_type": "code",
   "execution_count": 3,
   "metadata": {},
   "outputs": [
    {
     "data": {
      "text/html": [
       "<div>\n",
       "<style scoped>\n",
       "    .dataframe tbody tr th:only-of-type {\n",
       "        vertical-align: middle;\n",
       "    }\n",
       "\n",
       "    .dataframe tbody tr th {\n",
       "        vertical-align: top;\n",
       "    }\n",
       "\n",
       "    .dataframe thead th {\n",
       "        text-align: right;\n",
       "    }\n",
       "</style>\n",
       "<table border=\"1\" class=\"dataframe\">\n",
       "  <thead>\n",
       "    <tr style=\"text-align: right;\">\n",
       "      <th></th>\n",
       "      <th>belongs_to_collection</th>\n",
       "      <th>budget</th>\n",
       "      <th>genres</th>\n",
       "      <th>id</th>\n",
       "      <th>original_language</th>\n",
       "      <th>overview</th>\n",
       "      <th>popularity</th>\n",
       "      <th>production_companies</th>\n",
       "      <th>production_countries</th>\n",
       "      <th>release_date</th>\n",
       "      <th>...</th>\n",
       "      <th>spoken_languages</th>\n",
       "      <th>status</th>\n",
       "      <th>tagline</th>\n",
       "      <th>title</th>\n",
       "      <th>vote_average</th>\n",
       "      <th>vote_count</th>\n",
       "      <th>release_year</th>\n",
       "      <th>return</th>\n",
       "      <th>cast</th>\n",
       "      <th>director_name</th>\n",
       "    </tr>\n",
       "  </thead>\n",
       "  <tbody>\n",
       "    <tr>\n",
       "      <th>0</th>\n",
       "      <td>Toy Story Collection</td>\n",
       "      <td>30000000</td>\n",
       "      <td>['Animation', 'Comedy', 'Family']</td>\n",
       "      <td>862</td>\n",
       "      <td>en</td>\n",
       "      <td>Led by Woody, Andy's toys live happily in his ...</td>\n",
       "      <td>21.946943</td>\n",
       "      <td>['Pixar Animation Studios']</td>\n",
       "      <td>['United States of America']</td>\n",
       "      <td>1995-10-30</td>\n",
       "      <td>...</td>\n",
       "      <td>['English']</td>\n",
       "      <td>Released</td>\n",
       "      <td>NaN</td>\n",
       "      <td>Toy Story</td>\n",
       "      <td>7.7</td>\n",
       "      <td>5415.0</td>\n",
       "      <td>1995.0</td>\n",
       "      <td>12.451801</td>\n",
       "      <td>['Tom Hanks', 'Tim Allen', 'Don Rickles', 'Jim...</td>\n",
       "      <td>John Lasseter</td>\n",
       "    </tr>\n",
       "    <tr>\n",
       "      <th>1</th>\n",
       "      <td>NaN</td>\n",
       "      <td>65000000</td>\n",
       "      <td>['Adventure', 'Fantasy', 'Family']</td>\n",
       "      <td>8844</td>\n",
       "      <td>en</td>\n",
       "      <td>When siblings Judy and Peter discover an encha...</td>\n",
       "      <td>17.015539</td>\n",
       "      <td>['TriStar Pictures', 'Teitler Film', 'Intersco...</td>\n",
       "      <td>['United States of America']</td>\n",
       "      <td>1995-12-15</td>\n",
       "      <td>...</td>\n",
       "      <td>['English', 'Français']</td>\n",
       "      <td>Released</td>\n",
       "      <td>Roll the dice and unleash the excitement!</td>\n",
       "      <td>Jumanji</td>\n",
       "      <td>6.9</td>\n",
       "      <td>2413.0</td>\n",
       "      <td>1995.0</td>\n",
       "      <td>4.043035</td>\n",
       "      <td>['Robin Williams', 'Jonathan Hyde', 'Kirsten D...</td>\n",
       "      <td>Joe Johnston</td>\n",
       "    </tr>\n",
       "    <tr>\n",
       "      <th>2</th>\n",
       "      <td>Grumpy Old Men Collection</td>\n",
       "      <td>0</td>\n",
       "      <td>['Romance', 'Comedy']</td>\n",
       "      <td>15602</td>\n",
       "      <td>en</td>\n",
       "      <td>A family wedding reignites the ancient feud be...</td>\n",
       "      <td>11.712900</td>\n",
       "      <td>['Warner Bros.', 'Lancaster Gate']</td>\n",
       "      <td>['United States of America']</td>\n",
       "      <td>1995-12-22</td>\n",
       "      <td>...</td>\n",
       "      <td>['English']</td>\n",
       "      <td>Released</td>\n",
       "      <td>Still Yelling. Still Fighting. Still Ready for...</td>\n",
       "      <td>Grumpier Old Men</td>\n",
       "      <td>6.5</td>\n",
       "      <td>92.0</td>\n",
       "      <td>1995.0</td>\n",
       "      <td>0.000000</td>\n",
       "      <td>['Walter Matthau', 'Jack Lemmon', 'Ann-Margret...</td>\n",
       "      <td>Howard Deutch</td>\n",
       "    </tr>\n",
       "    <tr>\n",
       "      <th>3</th>\n",
       "      <td>NaN</td>\n",
       "      <td>16000000</td>\n",
       "      <td>['Comedy', 'Drama', 'Romance']</td>\n",
       "      <td>31357</td>\n",
       "      <td>en</td>\n",
       "      <td>Cheated on, mistreated and stepped on, the wom...</td>\n",
       "      <td>3.859495</td>\n",
       "      <td>['Twentieth Century Fox Film Corporation']</td>\n",
       "      <td>['United States of America']</td>\n",
       "      <td>1995-12-22</td>\n",
       "      <td>...</td>\n",
       "      <td>['English']</td>\n",
       "      <td>Released</td>\n",
       "      <td>Friends are the people who let you be yourself...</td>\n",
       "      <td>Waiting to Exhale</td>\n",
       "      <td>6.1</td>\n",
       "      <td>34.0</td>\n",
       "      <td>1995.0</td>\n",
       "      <td>5.090760</td>\n",
       "      <td>['Whitney Houston', 'Angela Bassett', 'Loretta...</td>\n",
       "      <td>Forest Whitaker</td>\n",
       "    </tr>\n",
       "    <tr>\n",
       "      <th>4</th>\n",
       "      <td>Father of the Bride Collection</td>\n",
       "      <td>0</td>\n",
       "      <td>['Comedy']</td>\n",
       "      <td>11862</td>\n",
       "      <td>en</td>\n",
       "      <td>Just when George Banks has recovered from his ...</td>\n",
       "      <td>8.387519</td>\n",
       "      <td>['Sandollar Productions', 'Touchstone Pictures']</td>\n",
       "      <td>['United States of America']</td>\n",
       "      <td>1995-02-10</td>\n",
       "      <td>...</td>\n",
       "      <td>['English']</td>\n",
       "      <td>Released</td>\n",
       "      <td>Just When His World Is Back To Normal... He's ...</td>\n",
       "      <td>Father of the Bride Part II</td>\n",
       "      <td>5.7</td>\n",
       "      <td>173.0</td>\n",
       "      <td>1995.0</td>\n",
       "      <td>0.000000</td>\n",
       "      <td>['Steve Martin', 'Diane Keaton', 'Martin Short...</td>\n",
       "      <td>Charles Shyer</td>\n",
       "    </tr>\n",
       "  </tbody>\n",
       "</table>\n",
       "<p>5 rows × 22 columns</p>\n",
       "</div>"
      ],
      "text/plain": [
       "            belongs_to_collection    budget  \\\n",
       "0            Toy Story Collection  30000000   \n",
       "1                             NaN  65000000   \n",
       "2       Grumpy Old Men Collection         0   \n",
       "3                             NaN  16000000   \n",
       "4  Father of the Bride Collection         0   \n",
       "\n",
       "                               genres     id original_language  \\\n",
       "0   ['Animation', 'Comedy', 'Family']    862                en   \n",
       "1  ['Adventure', 'Fantasy', 'Family']   8844                en   \n",
       "2               ['Romance', 'Comedy']  15602                en   \n",
       "3      ['Comedy', 'Drama', 'Romance']  31357                en   \n",
       "4                          ['Comedy']  11862                en   \n",
       "\n",
       "                                            overview  popularity  \\\n",
       "0  Led by Woody, Andy's toys live happily in his ...   21.946943   \n",
       "1  When siblings Judy and Peter discover an encha...   17.015539   \n",
       "2  A family wedding reignites the ancient feud be...   11.712900   \n",
       "3  Cheated on, mistreated and stepped on, the wom...    3.859495   \n",
       "4  Just when George Banks has recovered from his ...    8.387519   \n",
       "\n",
       "                                production_companies  \\\n",
       "0                        ['Pixar Animation Studios']   \n",
       "1  ['TriStar Pictures', 'Teitler Film', 'Intersco...   \n",
       "2                 ['Warner Bros.', 'Lancaster Gate']   \n",
       "3         ['Twentieth Century Fox Film Corporation']   \n",
       "4   ['Sandollar Productions', 'Touchstone Pictures']   \n",
       "\n",
       "           production_countries release_date  ...         spoken_languages  \\\n",
       "0  ['United States of America']   1995-10-30  ...              ['English']   \n",
       "1  ['United States of America']   1995-12-15  ...  ['English', 'Français']   \n",
       "2  ['United States of America']   1995-12-22  ...              ['English']   \n",
       "3  ['United States of America']   1995-12-22  ...              ['English']   \n",
       "4  ['United States of America']   1995-02-10  ...              ['English']   \n",
       "\n",
       "     status                                            tagline  \\\n",
       "0  Released                                                NaN   \n",
       "1  Released          Roll the dice and unleash the excitement!   \n",
       "2  Released  Still Yelling. Still Fighting. Still Ready for...   \n",
       "3  Released  Friends are the people who let you be yourself...   \n",
       "4  Released  Just When His World Is Back To Normal... He's ...   \n",
       "\n",
       "                         title vote_average vote_count  release_year  \\\n",
       "0                    Toy Story          7.7     5415.0        1995.0   \n",
       "1                      Jumanji          6.9     2413.0        1995.0   \n",
       "2             Grumpier Old Men          6.5       92.0        1995.0   \n",
       "3            Waiting to Exhale          6.1       34.0        1995.0   \n",
       "4  Father of the Bride Part II          5.7      173.0        1995.0   \n",
       "\n",
       "      return                                               cast  \\\n",
       "0  12.451801  ['Tom Hanks', 'Tim Allen', 'Don Rickles', 'Jim...   \n",
       "1   4.043035  ['Robin Williams', 'Jonathan Hyde', 'Kirsten D...   \n",
       "2   0.000000  ['Walter Matthau', 'Jack Lemmon', 'Ann-Margret...   \n",
       "3   5.090760  ['Whitney Houston', 'Angela Bassett', 'Loretta...   \n",
       "4   0.000000  ['Steve Martin', 'Diane Keaton', 'Martin Short...   \n",
       "\n",
       "     director_name  \n",
       "0    John Lasseter  \n",
       "1     Joe Johnston  \n",
       "2    Howard Deutch  \n",
       "3  Forest Whitaker  \n",
       "4    Charles Shyer  \n",
       "\n",
       "[5 rows x 22 columns]"
      ]
     },
     "execution_count": 3,
     "metadata": {},
     "output_type": "execute_result"
    }
   ],
   "source": [
    "df.head()"
   ]
  },
  {
   "cell_type": "code",
   "execution_count": 4,
   "metadata": {},
   "outputs": [
    {
     "name": "stdout",
     "output_type": "stream",
     "text": [
      "<class 'pandas.core.frame.DataFrame'>\n",
      "RangeIndex: 45539 entries, 0 to 45538\n",
      "Data columns (total 22 columns):\n",
      " #   Column                 Non-Null Count  Dtype  \n",
      "---  ------                 --------------  -----  \n",
      " 0   belongs_to_collection  4500 non-null   object \n",
      " 1   budget                 45539 non-null  int64  \n",
      " 2   genres                 45539 non-null  object \n",
      " 3   id                     45539 non-null  int64  \n",
      " 4   original_language      45528 non-null  object \n",
      " 5   overview               44585 non-null  object \n",
      " 6   popularity             45536 non-null  float64\n",
      " 7   production_companies   45539 non-null  object \n",
      " 8   production_countries   45539 non-null  object \n",
      " 9   release_date           45452 non-null  object \n",
      " 10  revenue                45539 non-null  float64\n",
      " 11  runtime                45279 non-null  float64\n",
      " 12  spoken_languages       45539 non-null  object \n",
      " 13  status                 45455 non-null  object \n",
      " 14  tagline                20439 non-null  object \n",
      " 15  title                  45536 non-null  object \n",
      " 16  vote_average           45536 non-null  float64\n",
      " 17  vote_count             45536 non-null  float64\n",
      " 18  release_year           45452 non-null  float64\n",
      " 19  return                 45539 non-null  float64\n",
      " 20  cast                   45538 non-null  object \n",
      " 21  director_name          44651 non-null  object \n",
      "dtypes: float64(7), int64(2), object(13)\n",
      "memory usage: 7.6+ MB\n"
     ]
    }
   ],
   "source": [
    "df.info()"
   ]
  },
  {
   "cell_type": "code",
   "execution_count": 5,
   "metadata": {},
   "outputs": [],
   "source": [
    "df['release_date']=pd.to_datetime(df['release_date'],errors='coerce')"
   ]
  },
  {
   "attachments": {},
   "cell_type": "markdown",
   "metadata": {},
   "source": [
    "def peliculas_mes(mes): '''Se ingresa el mes y la funcion retorna la cantidad de peliculas que se estrenaron ese mes (nombre del mes, en str, ejemplo 'enero') historicamente''' return {'mes':mes, 'cantidad':respuesta}"
   ]
  },
  {
   "cell_type": "code",
   "execution_count": 6,
   "metadata": {},
   "outputs": [],
   "source": [
    "def count_movies_by_month(mes):\n",
    "    df = pd.read_csv(\"datasets/moviestrasnf.csv\")\n",
    "    meses = {\"enero\": 1 ,\"febrero\": 2 ,\"marzo\": 3 ,\"abril\": 4 ,\"mayo\": 5 ,\"junio\": 6 ,\"julio\": 7 ,\"agosto\": 8 ,\"septiembre\": 9 ,\"octubre\": 10 ,\"noviembre\": 11 ,\"diciembre\": 12 }\n",
    "    if mes not in meses:\n",
    "        return \"Invalid month\"\n",
    "    lect = meses[mes]\n",
    "    df['release_date'] = pd.to_datetime(df['release_date'], errors='coerce')\n",
    "    cuenta =(df['release_date'].dt.month == lect).value_counts()[True]\n",
    "    return {'mes': mes, 'cantidad': cuenta}  "
   ]
  },
  {
   "cell_type": "code",
   "execution_count": 7,
   "metadata": {},
   "outputs": [
    {
     "name": "stderr",
     "output_type": "stream",
     "text": [
      "C:\\Users\\david\\AppData\\Local\\Temp\\ipykernel_20928\\2051371217.py:2: DtypeWarning: Columns (6) have mixed types. Specify dtype option on import or set low_memory=False.\n",
      "  df = pd.read_csv(\"datasets/moviestrasnf.csv\")\n"
     ]
    },
    {
     "data": {
      "text/plain": [
       "{'mes': 'enero', 'cantidad': 5912}"
      ]
     },
     "execution_count": 7,
     "metadata": {},
     "output_type": "execute_result"
    }
   ],
   "source": [
    "count_movies_by_month(\"enero\")"
   ]
  },
  {
   "attachments": {},
   "cell_type": "markdown",
   "metadata": {},
   "source": [
    "def peliculas_dia(dia): '''Se ingresa el dia y la funcion retorna la cantidad de peliculas que se estrenaron ese dia (de la semana, en str, ejemplo 'lunes') historicamente''' return {'dia':dia, 'cantidad':respuesta}"
   ]
  },
  {
   "cell_type": "code",
   "execution_count": 8,
   "metadata": {},
   "outputs": [],
   "source": [
    "def peliculas_dias(weekday: str):\n",
    "    '''Se ingresa el día y la función retorna la cantidad de películas que se estrenaron ese día históricamente'''\n",
    "    # Diccionario de equivalencias de días de la semana en inglés y español\n",
    "    ndia=weekday\n",
    "    dias_semana = {\n",
    "        'lunes': 'Monday',\n",
    "        'martes': 'Tuesday',\n",
    "        'miércoles': 'Wednesday',\n",
    "        'jueves': 'Thursday',\n",
    "        'viernes': 'Friday',\n",
    "        'sábado': 'Saturday',\n",
    "        'domingo': 'Sunday'\n",
    "    }\n",
    "    # Verificar si se ingresó un día en español y obtener su equivalente en inglés\n",
    "    if weekday.lower() in dias_semana:\n",
    "        weekday = dias_semana[weekday.lower()]\n",
    "    \n",
    "    # Cargar el dataset\n",
    "    df = pd.read_csv(\"datasets/moviestrasnf.csv\")\n",
    "    # Convertir la columna release_date a un objeto datetime\n",
    "    df['release_date'] = pd.to_datetime(df['release_date'], errors='coerce')\n",
    "    # Filtrar las filas que no tienen un valor nulo en la columna release_date\n",
    "    df = df[df['release_date'].notnull()]\n",
    "    # Obtener el nombre del día de la semana para cada fecha en la columna release_date\n",
    "    df['weekday'] = df['release_date'].dt.day_name()\n",
    "    # Filtrar por el nombre del día de la semana buscado y contar la cantidad de películas\n",
    "    count = len(df[df['weekday'].str.lower() == weekday.lower()])\n",
    "    # Retornar el resultado en un diccionario con el formato {'dia': weekday, 'cantidad': count}\n",
    "    return {'dia': str(ndia), 'cantidad': int(count)}"
   ]
  },
  {
   "cell_type": "code",
   "execution_count": 9,
   "metadata": {},
   "outputs": [
    {
     "name": "stderr",
     "output_type": "stream",
     "text": [
      "C:\\Users\\david\\AppData\\Local\\Temp\\ipykernel_20928\\2599078116.py:19: DtypeWarning: Columns (6) have mixed types. Specify dtype option on import or set low_memory=False.\n",
      "  df = pd.read_csv(\"datasets/moviestrasnf.csv\")\n"
     ]
    },
    {
     "data": {
      "text/plain": [
       "{'dia': 'jueves', 'cantidad': 7525}"
      ]
     },
     "execution_count": 9,
     "metadata": {},
     "output_type": "execute_result"
    }
   ],
   "source": [
    "peliculas_dias(\"jueves\")"
   ]
  },
  {
   "attachments": {},
   "cell_type": "markdown",
   "metadata": {},
   "source": [
    "def franquicia(franquicia): '''Se ingresa la franquicia, retornando la cantidad de peliculas, ganancia total y promedio''' return {'franquicia':franquicia, 'cantidad':respuesta, 'ganancia_total':respuesta, 'ganancia_promedio':respuesta}"
   ]
  },
  {
   "cell_type": "code",
   "execution_count": 10,
   "metadata": {},
   "outputs": [],
   "source": [
    "def franquicia_info(franquicia):\n",
    "    # filtra las filas que corresponden a la franquicia de entrada y no son NaN\n",
    "    df = pd.read_csv(\"datasets/moviestrasnf.csv\")\n",
    "    franquicia_df = df[(df['belongs_to_collection'].notna()) & (df['belongs_to_collection'].str.contains(franquicia))]\n",
    "    \n",
    "    # si no hay filas correspondientes a la franquicia, retorna un mensaje\n",
    "    if franquicia_df.empty:\n",
    "        return \"No se encontró la franquicia.\"\n",
    "    \n",
    "    # cuenta la cantidad de filas y suma los ingresos de la franquicia\n",
    "    cantidad = franquicia_df.shape[0]\n",
    "    ganancia_total = franquicia_df['revenue'].sum()\n",
    "    ganancia_promedio = ganancia_total / cantidad\n",
    "    \n",
    "    return {'franquicia':franquicia, 'cantidad':cantidad, 'ganancia_total':ganancia_total, 'ganancia_promedio':ganancia_promedio}"
   ]
  },
  {
   "cell_type": "code",
   "execution_count": 11,
   "metadata": {},
   "outputs": [
    {
     "name": "stderr",
     "output_type": "stream",
     "text": [
      "C:\\Users\\david\\AppData\\Local\\Temp\\ipykernel_20928\\3788409547.py:3: DtypeWarning: Columns (6) have mixed types. Specify dtype option on import or set low_memory=False.\n",
      "  df = pd.read_csv(\"datasets/moviestrasnf.csv\")\n"
     ]
    },
    {
     "data": {
      "text/plain": [
       "{'franquicia': 'Batman',\n",
       " 'cantidad': 19,\n",
       " 'ganancia_total': 1271702581.0,\n",
       " 'ganancia_promedio': 66931714.78947368}"
      ]
     },
     "execution_count": 11,
     "metadata": {},
     "output_type": "execute_result"
    }
   ],
   "source": [
    "franquicia_info(\"Batman\")"
   ]
  },
  {
   "attachments": {},
   "cell_type": "markdown",
   "metadata": {},
   "source": [
    "def peliculas_pais(pais): '''Ingresas el pais, retornando la cantidad de peliculas producidas en el mismo''' return {'pais':pais, 'cantidad':respuesta}"
   ]
  },
  {
   "cell_type": "code",
   "execution_count": 12,
   "metadata": {},
   "outputs": [],
   "source": [
    "def contar_pais(pais):\n",
    "    df = pd.read_csv(\"datasets/moviestrasnf.csv\")\n",
    "    df = df[df[\"production_countries\"].notna()] # Filtrar solo filas que tengan valores en la columna \"production_countries\"\n",
    "    count = df[\"production_countries\"].apply(lambda x: pais in str(x)).sum() # Contar la cantidad de veces que aparece el país en la columna \"production_countries\"\n",
    "    return {\"pais\": pais, \"cantidad\": count}"
   ]
  },
  {
   "cell_type": "code",
   "execution_count": 13,
   "metadata": {},
   "outputs": [
    {
     "name": "stderr",
     "output_type": "stream",
     "text": [
      "C:\\Users\\david\\AppData\\Local\\Temp\\ipykernel_20928\\1614741894.py:2: DtypeWarning: Columns (6) have mixed types. Specify dtype option on import or set low_memory=False.\n",
      "  df = pd.read_csv(\"datasets/moviestrasnf.csv\")\n"
     ]
    },
    {
     "data": {
      "text/plain": [
       "{'pais': 'Spain', 'cantidad': 964}"
      ]
     },
     "execution_count": 13,
     "metadata": {},
     "output_type": "execute_result"
    }
   ],
   "source": [
    "contar_pais(\"Spain\")"
   ]
  },
  {
   "attachments": {},
   "cell_type": "markdown",
   "metadata": {},
   "source": [
    "def productoras(productora): '''Ingresas la productora, retornando la ganancia total y la cantidad de peliculas que produjeron''' return {'productora':productora, 'ganancia_total':respuesta, 'cantidad':respuesta}"
   ]
  },
  {
   "cell_type": "code",
   "execution_count": 14,
   "metadata": {},
   "outputs": [],
   "source": [
    "def productoras(productora):\n",
    "    # filtra las filas que corresponden a la franquicia de entrada y no son NaN\n",
    "    df = pd.read_csv(\"datasets/moviestrasnf.csv\")\n",
    "    productora_df = df[(df['production_companies'].notna()) & (df['production_companies'].str.contains(productora))]\n",
    "    \n",
    "    # si no hay filas correspondientes a la franquicia, retorna un mensaje\n",
    "    if productora_df.empty:\n",
    "        return \"No se encontró la productora.\"\n",
    "    \n",
    "    # cuenta la cantidad de filas y suma los ingresos de la franquicia\n",
    "    cantidad = productora_df.shape[0]\n",
    "    ganancia_total = productora_df['revenue'].sum()\n",
    "    return {'franquicia':productora, 'ganancia_total':ganancia_total, 'cantidad':cantidad}"
   ]
  },
  {
   "cell_type": "code",
   "execution_count": 15,
   "metadata": {},
   "outputs": [
    {
     "name": "stderr",
     "output_type": "stream",
     "text": [
      "C:\\Users\\david\\AppData\\Local\\Temp\\ipykernel_20928\\2134190302.py:3: DtypeWarning: Columns (6) have mixed types. Specify dtype option on import or set low_memory=False.\n",
      "  df = pd.read_csv(\"datasets/moviestrasnf.csv\")\n"
     ]
    },
    {
     "data": {
      "text/plain": [
       "{'franquicia': 'Pixar', 'ganancia_total': 11188533734.0, 'cantidad': 52}"
      ]
     },
     "execution_count": 15,
     "metadata": {},
     "output_type": "execute_result"
    }
   ],
   "source": [
    "productoras(\"Pixar\")"
   ]
  },
  {
   "attachments": {},
   "cell_type": "markdown",
   "metadata": {},
   "source": [
    "def retorno(pelicula): '''Ingresas la pelicula, retornando la inversion, la ganancia, el retorno y el año en el que se lanzo''' return {'pelicula':pelicula, 'inversion':respuesta, 'ganacia':respuesta,'retorno':respuesta, 'anio':respuesta}"
   ]
  },
  {
   "cell_type": "code",
   "execution_count": 16,
   "metadata": {},
   "outputs": [],
   "source": [
    "def retorno(pelicula):\n",
    "    df = pd.read_csv(\"datasets/moviestrasnf.csv\", na_values=[\"\", \"NaN\", \"NA\"], dtype={\"title\": str})\n",
    "    df[\"title\"] = df[\"title\"].fillna(\"\") \n",
    "    df = df[df[\"title\"].str.contains(pelicula, case=False)] \n",
    "    if df.empty: \n",
    "        return None\n",
    "    else:\n",
    "        pelicula = df.iloc[0][\"title\"]\n",
    "        inversion = df.iloc[0][\"budget\"]\n",
    "        ganancia = df.iloc[0][\"revenue\"]\n",
    "        retorno = df.iloc[0][\"return\"]\n",
    "        anio = df.iloc[0][\"release_year\"]\n",
    "        return {'pelicula':pelicula, 'inversion':inversion, 'ganancia':ganancia,'retorno':retorno, 'anio':anio}"
   ]
  },
  {
   "cell_type": "code",
   "execution_count": 17,
   "metadata": {},
   "outputs": [
    {
     "name": "stderr",
     "output_type": "stream",
     "text": [
      "C:\\Users\\david\\AppData\\Local\\Temp\\ipykernel_20928\\2690033502.py:2: DtypeWarning: Columns (6) have mixed types. Specify dtype option on import or set low_memory=False.\n",
      "  df = pd.read_csv(\"datasets/moviestrasnf.csv\", na_values=[\"\", \"NaN\", \"NA\"], dtype={\"title\": str})\n"
     ]
    },
    {
     "data": {
      "text/plain": [
       "{'pelicula': 'Batman Forever',\n",
       " 'inversion': '100000000',\n",
       " 'ganancia': 336529144.0,\n",
       " 'retorno': 3.36529144,\n",
       " 'anio': 1995.0}"
      ]
     },
     "execution_count": 17,
     "metadata": {},
     "output_type": "execute_result"
    }
   ],
   "source": [
    "retorno(\"Batman\")"
   ]
  },
  {
   "cell_type": "code",
   "execution_count": 18,
   "metadata": {},
   "outputs": [
    {
     "name": "stderr",
     "output_type": "stream",
     "text": [
      "C:\\Users\\david\\AppData\\Local\\Temp\\ipykernel_20928\\2690033502.py:2: DtypeWarning: Columns (6) have mixed types. Specify dtype option on import or set low_memory=False.\n",
      "  df = pd.read_csv(\"datasets/moviestrasnf.csv\", na_values=[\"\", \"NaN\", \"NA\"], dtype={\"title\": str})\n"
     ]
    },
    {
     "data": {
      "text/plain": [
       "{'pelicula': 'Toy Story',\n",
       " 'inversion': '30000000',\n",
       " 'ganancia': 373554033.0,\n",
       " 'retorno': 12.4518011,\n",
       " 'anio': 1995.0}"
      ]
     },
     "execution_count": 18,
     "metadata": {},
     "output_type": "execute_result"
    }
   ],
   "source": [
    "retorno(\"Toy story\")"
   ]
  },
  {
   "cell_type": "code",
   "execution_count": 19,
   "metadata": {},
   "outputs": [
    {
     "name": "stderr",
     "output_type": "stream",
     "text": [
      "C:\\Users\\david\\AppData\\Local\\Temp\\ipykernel_20928\\2690033502.py:2: DtypeWarning: Columns (6) have mixed types. Specify dtype option on import or set low_memory=False.\n",
      "  df = pd.read_csv(\"datasets/moviestrasnf.csv\", na_values=[\"\", \"NaN\", \"NA\"], dtype={\"title\": str})\n"
     ]
    },
    {
     "data": {
      "text/plain": [
       "{'pelicula': 'Star Wars',\n",
       " 'inversion': '11000000',\n",
       " 'ganancia': 775398007.0,\n",
       " 'retorno': 70.49072790909091,\n",
       " 'anio': 1977.0}"
      ]
     },
     "execution_count": 19,
     "metadata": {},
     "output_type": "execute_result"
    }
   ],
   "source": [
    "retorno(\"star wars\")"
   ]
  },
  {
   "attachments": {},
   "cell_type": "markdown",
   "metadata": {},
   "source": [
    "def score_titulo( titulo_de_la_filmación ): Se ingresa el título de una filmación esperando como respuesta el título, el año de estreno y el score.\n",
    "                    Ejemplo de retorno: La película X fue estrenada en el año X con un score/popularidad de X"
   ]
  },
  {
   "cell_type": "code",
   "execution_count": 20,
   "metadata": {},
   "outputs": [],
   "source": [
    "def score_titulo(pelicula):\n",
    "    df = pd.read_csv(\"datasets/moviestrasnf.csv\", na_values=[\"\", \"NaN\", \"NA\"], dtype={\"title\": str})\n",
    "    df[\"title\"] = df[\"title\"].fillna(\"\") \n",
    "    df = df[df[\"title\"].str.contains(pelicula, case=False)] \n",
    "    if df.empty: \n",
    "        return None\n",
    "    else:\n",
    "        pelicula = df.iloc[0][\"title\"]\n",
    "        anio = df.iloc[0][\"release_year\"]\n",
    "        vote_average = df['vote_average'].values[0]\n",
    "        popularity = df['popularity'].values[0]\n",
    "        score_pop = vote_average / popularity\n",
    "        return {'La película':pelicula, 'fue estrenada en el año':anio, 'con un score/popularidad':score_pop}"
   ]
  },
  {
   "cell_type": "code",
   "execution_count": 34,
   "metadata": {},
   "outputs": [
    {
     "name": "stderr",
     "output_type": "stream",
     "text": [
      "C:\\Users\\david\\AppData\\Local\\Temp\\ipykernel_20928\\4083220514.py:2: DtypeWarning: Columns (6) have mixed types. Specify dtype option on import or set low_memory=False.\n",
      "  df = pd.read_csv(\"datasets/moviestrasnf.csv\", na_values=[\"\", \"NaN\", \"NA\"], dtype={\"title\": str})\n"
     ]
    },
    {
     "data": {
      "text/plain": [
       "{'La película': 'Fifty Shades of Grey',\n",
       " 'fue estrenada en el año': 2015.0,\n",
       " 'con un score/popularidad': 0.15724967416809102}"
      ]
     },
     "execution_count": 34,
     "metadata": {},
     "output_type": "execute_result"
    }
   ],
   "source": [
    "score_titulo(\"Fifty Shades\")"
   ]
  },
  {
   "cell_type": "code",
   "execution_count": null,
   "metadata": {},
   "outputs": [],
   "source": []
  },
  {
   "attachments": {},
   "cell_type": "markdown",
   "metadata": {},
   "source": [
    "def votos_titulo( titulo_de_la_filmación ): Se ingresa el título de una filmación esperando como respuesta el título, la cantidad de votos y el valor promedio de las votaciones. La misma variable deberá de contar con al menos 2000 valoraciones, caso contrario, debemos contar con un mensaje avisando que no cumple esta condición y que por ende, no se devuelve ningun valor.\n",
    "                    Ejemplo de retorno: La película X fue estrenada en el año X. La misma cuenta con un total de X valoraciones, con un promedio de X"
   ]
  },
  {
   "cell_type": "code",
   "execution_count": 22,
   "metadata": {},
   "outputs": [],
   "source": [
    "def votos_titulo(pelicula):\n",
    "    df = pd.read_csv(\"datasets/movietrasnf2.csv\", na_values=[\"\", \"NaN\", \"NA\"], dtype={\"title\": str})\n",
    "    df[\"title\"] = df[\"title\"].fillna(\"\") \n",
    "    df = df[df[\"title\"].str.contains(pelicula, case=False)] \n",
    "    if df.empty: \n",
    "        return None\n",
    "    else:\n",
    "        pelicula = df.iloc[0][\"title\"]\n",
    "        votos = df.iloc[0][\"vote_count\"]\n",
    "        vote_average = df.iloc[0][\"vote_average\"]\n",
    "        anio = df.iloc[0][\"release_year\"]\n",
    "        if votos < 2000:\n",
    "            return {'la pelicula':pelicula, 'no posee más de 2000 votaciones solo tiene':votos}\n",
    "        return {'la pelicula':pelicula, 'fue estrenada en el año':anio ,'resivió':votos, ' votos, teniendo una votación promedio de ':vote_average}"
   ]
  },
  {
   "cell_type": "code",
   "execution_count": 23,
   "metadata": {},
   "outputs": [
    {
     "data": {
      "text/plain": [
       "{'la pelicula': 'Pirates of the Caribbean: The Curse of the Black Pearl',\n",
       " 'fue estrenada en el año': 2003.0,\n",
       " 'resivió': 7191.0,\n",
       " ' votos, teniendo una votación promedio de ': 7.5}"
      ]
     },
     "execution_count": 23,
     "metadata": {},
     "output_type": "execute_result"
    }
   ],
   "source": [
    "votos_titulo(\"Pirates\")"
   ]
  },
  {
   "attachments": {},
   "cell_type": "markdown",
   "metadata": {},
   "source": [
    "def get_actor( nombre_actor ): Se ingresa el nombre de un actor que se encuentre dentro de un dataset debiendo devolver el éxito del mismo medido a través del retorno. Además, la cantidad de películas que en las que ha participado y el promedio de retorno. La definición no deberá considerar directores.\n",
    "                    Ejemplo de retorno: El actor X ha participado de X cantidad de filmaciones, el mismo ha conseguido un retorno de X con un promedio de X por filmación"
   ]
  },
  {
   "cell_type": "code",
   "execution_count": 35,
   "metadata": {},
   "outputs": [],
   "source": [
    "def get_actor(nombre_actor):\n",
    "    # filtra las filas que corresponden a la franquicia de entrada y no son NaN\n",
    "    df = pd.read_csv(\"datasets/movietrasnf2.csv\")\n",
    "    actor_df = df[(df['cast'].notna()) & (df['cast'].str.contains(nombre_actor))]\n",
    "    \n",
    "    # si no hay filas correspondientes a la franquicia, retorna un mensaje\n",
    "    if actor_df.empty:\n",
    "        return {'No se encontró la actor con el nombre':str(nombre_actor)}\n",
    "    \n",
    "    # cuenta la cantidad de filas y suma los ingresos de la franquicia\n",
    "    cantidad = actor_df.shape[0]\n",
    "    ganancia_total = actor_df['revenue'].sum()\n",
    "    gpromedio= ganancia_total/cantidad\n",
    "    return {'el actor':nombre_actor, 'ha participado en ':cantidad,'peliculas, teniendo como retorno pomedio por pelicula de':gpromedio, 'y una ganancia total de':ganancia_total}"
   ]
  },
  {
   "cell_type": "code",
   "execution_count": 36,
   "metadata": {},
   "outputs": [
    {
     "data": {
      "text/plain": [
       "{'el actor': 'Johnny Depp',\n",
       " 'ha participado en ': 69,\n",
       " 'peliculas, teniendo como retorno pomedio por pelicula de': 154402328.13043478,\n",
       " 'y una ganancia total de': 10653760641.0}"
      ]
     },
     "execution_count": 36,
     "metadata": {},
     "output_type": "execute_result"
    }
   ],
   "source": [
    "get_actor(\"Johnny Depp\")"
   ]
  },
  {
   "attachments": {},
   "cell_type": "markdown",
   "metadata": {},
   "source": [
    "def get_director( nombre_director ): Se ingresa el nombre de un director que se encuentre dentro de un dataset debiendo devolver el éxito del mismo medido a través del retorno. Además, deberá devolver el nombre de cada película con la fecha de lanzamiento, retorno individual, costo y ganancia de la misma."
   ]
  },
  {
   "cell_type": "code",
   "execution_count": 26,
   "metadata": {},
   "outputs": [],
   "source": [
    "def get_director(nombre_director):\n",
    "    director_movies = df[df['director_name'] == nombre_director]\n",
    "    total_return = director_movies['return'].sum()\n",
    "    movie_info = director_movies[['title', 'release_date', 'return', 'budget', 'revenue']]\n",
    "    return {\n",
    "        'Director': nombre_director,\n",
    "        'Ganancia Total': total_return,\n",
    "        'Peliculas': movie_info\n",
    "    }"
   ]
  },
  {
   "cell_type": "code",
   "execution_count": 27,
   "metadata": {},
   "outputs": [],
   "source": [
    "def get_director2(nombre_director):\n",
    "    director_movies = df[df['director_name'] == nombre_director]\n",
    "    total_return = director_movies['return'].sum()\n",
    "    movie_info = director_movies[['title', 'release_date', 'return', 'budget', 'revenue']]\n",
    "    movies = []\n",
    "    for _, row in movie_info.iterrows():\n",
    "        movie = {\n",
    "            'pelicula': row['title'],\n",
    "            'anio': row['release_date'].year,\n",
    "            'retorno_pelicula': row['return'],\n",
    "            'budget_pelicula': row['budget'],\n",
    "            'revenue_pelicula': row['revenue']\n",
    "        }\n",
    "        movies.append(movie)\n",
    "\n",
    "    return {\n",
    "        'director': nombre_director,\n",
    "        'retorno_total_director': total_return,\n",
    "        'peliculas': movies\n",
    "    }"
   ]
  },
  {
   "cell_type": "code",
   "execution_count": 28,
   "metadata": {},
   "outputs": [
    {
     "data": {
      "text/plain": [
       "{'Director': 'Steven Spielberg',\n",
       " 'Ganancia Total': 309.9980864877447,\n",
       " 'Peliculas':                                                    title release_date  \\\n",
       " 475                                        Jurassic Park   1993-06-11   \n",
       " 522                                     Schindler's List   1993-11-29   \n",
       " 1068                          E.T. the Extra-Terrestrial   1982-04-03   \n",
       " 1159                             Raiders of the Lost Ark   1981-06-12   \n",
       " 1249                  Indiana Jones and the Last Crusade   1989-05-24   \n",
       " 1341                                                Jaws   1975-06-18   \n",
       " 1478                       The Lost World: Jurassic Park   1997-05-23   \n",
       " 1618                                             Amistad   1997-12-03   \n",
       " 1923                                 Saving Private Ryan   1998-07-24   \n",
       " 2010                Indiana Jones and the Temple of Doom   1984-05-23   \n",
       " 2629                                    The Color Purple   1985-12-18   \n",
       " 3356                  Close Encounters of the Third Kind   1977-11-16   \n",
       " 3373                                                Hook   1991-12-11   \n",
       " 3621                               The Sugarland Express   1974-04-05   \n",
       " 3982                                   Empire of the Sun   1987-12-09   \n",
       " 4248                        A.I. Artificial Intelligence   2001-06-29   \n",
       " 4443                                              Always   1989-12-22   \n",
       " 5319                                     Minority Report   2002-06-20   \n",
       " 5861                                 Catch Me If You Can   2002-12-25   \n",
       " 6963                                                1941   1979-12-13   \n",
       " 7842                                        The Terminal   2004-06-17   \n",
       " 8683                                                Duel   1972-10-01   \n",
       " 8848                            Twilight Zone: The Movie   1983-06-24   \n",
       " 10193                                  War of the Worlds   2005-06-28   \n",
       " 10658                                             Munich   2005-12-22   \n",
       " 12645  Indiana Jones and the Kingdom of the Crystal S...   2008-05-21   \n",
       " 18105                           The Adventures of Tintin   2011-10-25   \n",
       " 18191                                          War Horse   2011-12-25   \n",
       " 19834                                            Lincoln   2012-11-09   \n",
       " 23168                                      Night Gallery   1969-04-03   \n",
       " 33434                                    Bridge of Spies   2015-10-15   \n",
       " 38802                                            The BFG   2016-06-01   \n",
       " 40319                                     Something Evil   1972-01-21   \n",
       " \n",
       "           return     budget      revenue  \n",
       " 475    14.604762   63000000  920100000.0  \n",
       " 522    14.607526   22000000  321365567.0  \n",
       " 1068   75.520507   10500000  792965326.0  \n",
       " 1159   21.662554   18000000  389925971.0  \n",
       " 1249    9.878579   48000000  474171806.0  \n",
       " 1341   67.236286    7000000  470654000.0  \n",
       " 1478    3.138007   73000000  229074524.0  \n",
       " 1618    2.055556   36000000   74000000.0  \n",
       " 1923    6.883442   70000000  481840909.0  \n",
       " 2010   11.892857   28000000  333000000.0  \n",
       " 2629    9.752801   15000000  146292009.0  \n",
       " 3356   15.189432   20000000  303788635.0  \n",
       " 3373    4.297926   70000000  300854823.0  \n",
       " 3621    4.266667    3000000   12800000.0  \n",
       " 3982    0.635391   35000000   22238696.0  \n",
       " 4248    2.359266  100000000  235926552.0  \n",
       " 4443    2.391445   31000000   74134790.0  \n",
       " 5319    3.513460  102000000  358372926.0  \n",
       " 5861    6.771429   52000000  352114312.0  \n",
       " 6963    0.907307   35000000   31755742.0  \n",
       " 7842    3.656954   60000000  219417255.0  \n",
       " 8683    0.000000     450000          0.0  \n",
       " 8848    2.945092   10000000   29450919.0  \n",
       " 10193   4.482874  132000000  591739379.0  \n",
       " 10658   1.862270   70000000  130358911.0  \n",
       " 12645   4.252087  185000000  786636033.0  \n",
       " 18105   2.861077  130000000  371940071.0  \n",
       " 18191   2.690680   66000000  177584879.0  \n",
       " 19834   4.235284   65000000  275293450.0  \n",
       " 23168   0.000000          0          0.0  \n",
       " 33434   4.136959   40000000  165478348.0  \n",
       " 38802   1.309611  140000000  183345589.0  \n",
       " 40319   0.000000          0          0.0  }"
      ]
     },
     "execution_count": 28,
     "metadata": {},
     "output_type": "execute_result"
    }
   ],
   "source": [
    "get_director( \"Steven Spielberg\" )"
   ]
  },
  {
   "cell_type": "code",
   "execution_count": 29,
   "metadata": {},
   "outputs": [
    {
     "data": {
      "text/plain": [
       "{'director': 'Steven Spielberg',\n",
       " 'retorno_total_director': 309.9980864877447,\n",
       " 'peliculas': [{'pelicula': 'Jurassic Park',\n",
       "   'anio': 1993,\n",
       "   'retorno_pelicula': 14.604761904761904,\n",
       "   'budget_pelicula': 63000000,\n",
       "   'revenue_pelicula': 920100000.0},\n",
       "  {'pelicula': \"Schindler's List\",\n",
       "   'anio': 1993,\n",
       "   'retorno_pelicula': 14.607525772727271,\n",
       "   'budget_pelicula': 22000000,\n",
       "   'revenue_pelicula': 321365567.0},\n",
       "  {'pelicula': 'E.T. the Extra-Terrestrial',\n",
       "   'anio': 1982,\n",
       "   'retorno_pelicula': 75.52050723809523,\n",
       "   'budget_pelicula': 10500000,\n",
       "   'revenue_pelicula': 792965326.0},\n",
       "  {'pelicula': 'Raiders of the Lost Ark',\n",
       "   'anio': 1981,\n",
       "   'retorno_pelicula': 21.662553944444443,\n",
       "   'budget_pelicula': 18000000,\n",
       "   'revenue_pelicula': 389925971.0},\n",
       "  {'pelicula': 'Indiana Jones and the Last Crusade',\n",
       "   'anio': 1989,\n",
       "   'retorno_pelicula': 9.878579291666666,\n",
       "   'budget_pelicula': 48000000,\n",
       "   'revenue_pelicula': 474171806.0},\n",
       "  {'pelicula': 'Jaws',\n",
       "   'anio': 1975,\n",
       "   'retorno_pelicula': 67.23628571428571,\n",
       "   'budget_pelicula': 7000000,\n",
       "   'revenue_pelicula': 470654000.0},\n",
       "  {'pelicula': 'The Lost World: Jurassic Park',\n",
       "   'anio': 1997,\n",
       "   'retorno_pelicula': 3.138007178082192,\n",
       "   'budget_pelicula': 73000000,\n",
       "   'revenue_pelicula': 229074524.0},\n",
       "  {'pelicula': 'Amistad',\n",
       "   'anio': 1997,\n",
       "   'retorno_pelicula': 2.055555555555556,\n",
       "   'budget_pelicula': 36000000,\n",
       "   'revenue_pelicula': 74000000.0},\n",
       "  {'pelicula': 'Saving Private Ryan',\n",
       "   'anio': 1998,\n",
       "   'retorno_pelicula': 6.8834415571428575,\n",
       "   'budget_pelicula': 70000000,\n",
       "   'revenue_pelicula': 481840909.0},\n",
       "  {'pelicula': 'Indiana Jones and the Temple of Doom',\n",
       "   'anio': 1984,\n",
       "   'retorno_pelicula': 11.892857142857142,\n",
       "   'budget_pelicula': 28000000,\n",
       "   'revenue_pelicula': 333000000.0},\n",
       "  {'pelicula': 'The Color Purple',\n",
       "   'anio': 1985,\n",
       "   'retorno_pelicula': 9.7528006,\n",
       "   'budget_pelicula': 15000000,\n",
       "   'revenue_pelicula': 146292009.0},\n",
       "  {'pelicula': 'Close Encounters of the Third Kind',\n",
       "   'anio': 1977,\n",
       "   'retorno_pelicula': 15.18943175,\n",
       "   'budget_pelicula': 20000000,\n",
       "   'revenue_pelicula': 303788635.0},\n",
       "  {'pelicula': 'Hook',\n",
       "   'anio': 1991,\n",
       "   'retorno_pelicula': 4.297926042857143,\n",
       "   'budget_pelicula': 70000000,\n",
       "   'revenue_pelicula': 300854823.0},\n",
       "  {'pelicula': 'The Sugarland Express',\n",
       "   'anio': 1974,\n",
       "   'retorno_pelicula': 4.266666666666667,\n",
       "   'budget_pelicula': 3000000,\n",
       "   'revenue_pelicula': 12800000.0},\n",
       "  {'pelicula': 'Empire of the Sun',\n",
       "   'anio': 1987,\n",
       "   'retorno_pelicula': 0.6353913142857143,\n",
       "   'budget_pelicula': 35000000,\n",
       "   'revenue_pelicula': 22238696.0},\n",
       "  {'pelicula': 'A.I. Artificial Intelligence',\n",
       "   'anio': 2001,\n",
       "   'retorno_pelicula': 2.35926552,\n",
       "   'budget_pelicula': 100000000,\n",
       "   'revenue_pelicula': 235926552.0},\n",
       "  {'pelicula': 'Always',\n",
       "   'anio': 1989,\n",
       "   'retorno_pelicula': 2.3914448387096776,\n",
       "   'budget_pelicula': 31000000,\n",
       "   'revenue_pelicula': 74134790.0},\n",
       "  {'pelicula': 'Minority Report',\n",
       "   'anio': 2002,\n",
       "   'retorno_pelicula': 3.5134600588235294,\n",
       "   'budget_pelicula': 102000000,\n",
       "   'revenue_pelicula': 358372926.0},\n",
       "  {'pelicula': 'Catch Me If You Can',\n",
       "   'anio': 2002,\n",
       "   'retorno_pelicula': 6.771429076923077,\n",
       "   'budget_pelicula': 52000000,\n",
       "   'revenue_pelicula': 352114312.0},\n",
       "  {'pelicula': '1941',\n",
       "   'anio': 1979,\n",
       "   'retorno_pelicula': 0.9073069142857144,\n",
       "   'budget_pelicula': 35000000,\n",
       "   'revenue_pelicula': 31755742.0},\n",
       "  {'pelicula': 'The Terminal',\n",
       "   'anio': 2004,\n",
       "   'retorno_pelicula': 3.65695425,\n",
       "   'budget_pelicula': 60000000,\n",
       "   'revenue_pelicula': 219417255.0},\n",
       "  {'pelicula': 'Duel',\n",
       "   'anio': 1972,\n",
       "   'retorno_pelicula': 0.0,\n",
       "   'budget_pelicula': 450000,\n",
       "   'revenue_pelicula': 0.0},\n",
       "  {'pelicula': 'Twilight Zone: The Movie',\n",
       "   'anio': 1983,\n",
       "   'retorno_pelicula': 2.9450919,\n",
       "   'budget_pelicula': 10000000,\n",
       "   'revenue_pelicula': 29450919.0},\n",
       "  {'pelicula': 'War of the Worlds',\n",
       "   'anio': 2005,\n",
       "   'retorno_pelicula': 4.482874083333333,\n",
       "   'budget_pelicula': 132000000,\n",
       "   'revenue_pelicula': 591739379.0},\n",
       "  {'pelicula': 'Munich',\n",
       "   'anio': 2005,\n",
       "   'retorno_pelicula': 1.862270157142857,\n",
       "   'budget_pelicula': 70000000,\n",
       "   'revenue_pelicula': 130358911.0},\n",
       "  {'pelicula': 'Indiana Jones and the Kingdom of the Crystal Skull',\n",
       "   'anio': 2008,\n",
       "   'retorno_pelicula': 4.252086664864865,\n",
       "   'budget_pelicula': 185000000,\n",
       "   'revenue_pelicula': 786636033.0},\n",
       "  {'pelicula': 'The Adventures of Tintin',\n",
       "   'anio': 2011,\n",
       "   'retorno_pelicula': 2.861077469230769,\n",
       "   'budget_pelicula': 130000000,\n",
       "   'revenue_pelicula': 371940071.0},\n",
       "  {'pelicula': 'War Horse',\n",
       "   'anio': 2011,\n",
       "   'retorno_pelicula': 2.690679984848485,\n",
       "   'budget_pelicula': 66000000,\n",
       "   'revenue_pelicula': 177584879.0},\n",
       "  {'pelicula': 'Lincoln',\n",
       "   'anio': 2012,\n",
       "   'retorno_pelicula': 4.235283846153847,\n",
       "   'budget_pelicula': 65000000,\n",
       "   'revenue_pelicula': 275293450.0},\n",
       "  {'pelicula': 'Night Gallery',\n",
       "   'anio': 1969,\n",
       "   'retorno_pelicula': 0.0,\n",
       "   'budget_pelicula': 0,\n",
       "   'revenue_pelicula': 0.0},\n",
       "  {'pelicula': 'Bridge of Spies',\n",
       "   'anio': 2015,\n",
       "   'retorno_pelicula': 4.1369587,\n",
       "   'budget_pelicula': 40000000,\n",
       "   'revenue_pelicula': 165478348.0},\n",
       "  {'pelicula': 'The BFG',\n",
       "   'anio': 2016,\n",
       "   'retorno_pelicula': 1.30961135,\n",
       "   'budget_pelicula': 140000000,\n",
       "   'revenue_pelicula': 183345589.0},\n",
       "  {'pelicula': 'Something Evil',\n",
       "   'anio': 1972,\n",
       "   'retorno_pelicula': 0.0,\n",
       "   'budget_pelicula': 0,\n",
       "   'revenue_pelicula': 0.0}]}"
      ]
     },
     "execution_count": 29,
     "metadata": {},
     "output_type": "execute_result"
    }
   ],
   "source": [
    "get_director2( \"Steven Spielberg\" )"
   ]
  }
 ],
 "metadata": {
  "kernelspec": {
   "display_name": "Python 3",
   "language": "python",
   "name": "python3"
  },
  "language_info": {
   "codemirror_mode": {
    "name": "ipython",
    "version": 3
   },
   "file_extension": ".py",
   "mimetype": "text/x-python",
   "name": "python",
   "nbconvert_exporter": "python",
   "pygments_lexer": "ipython3",
   "version": "3.10.8"
  },
  "orig_nbformat": 4
 },
 "nbformat": 4,
 "nbformat_minor": 2
}
